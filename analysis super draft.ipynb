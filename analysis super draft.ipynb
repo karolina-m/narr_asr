{
  "cells": [
    {
      "cell_type": "markdown",
      "metadata": {},
      "source": [
        "A very simple first analysis of a few Batchalign-generated .cha files and human transcriptions.\n",
        "\n",
        "Two packages are necessary to run this notebook:\n",
        "- jiwer\n",
        "- batchalign\n",
        "\n",
        "If you're running this notebook in Google Colab, run the next cell without the hashtags (#) to install it.\n",
        "\n",
        "If you're running it on a local machine, install jiwer and batchalign through pip or conda in your environment. "
      ]
    },
    {
      "cell_type": "code",
      "execution_count": null,
      "metadata": {
        "colab": {
          "base_uri": "https://localhost:8080/"
        },
        "collapsed": true,
        "id": "jXyAyh_0L-_b",
        "outputId": "debca457-5f5c-49da-ecd7-5c9ba74ff09f"
      },
      "outputs": [],
      "source": [
        "#!pip install jiwer\n",
        "#!pip install batchalign"
      ]
    },
    {
      "cell_type": "code",
      "execution_count": 2,
      "metadata": {
        "colab": {
          "base_uri": "https://localhost:8080/",
          "height": 407
        },
        "id": "py_4YqHKOcV4",
        "outputId": "a6a81f2f-df1d-46ba-c42a-b06758f150db"
      },
      "outputs": [],
      "source": [
        "import jiwer\n",
        "import batchalign as ba"
      ]
    },
    {
      "cell_type": "code",
      "execution_count": null,
      "metadata": {
        "id": "dde4h8moMwdk"
      },
      "outputs": [],
      "source": [
        "#reading the Batchalign files\n",
        "\n",
        "\n",
        "\n",
        "chat_1 = ba.CHATFile(path=r\"D:\\GitHub\\Repos\\Narracje-ASR\\data\\test\\batchaling\\Mf036_transkrypt_Batchalign2_LAPCOST-1-PL_FIRST_1357804297_d__Nagrania_Mf036_NAp.cha\") #replace with your file path\n",
        "\n",
        "hypothesis_1 = str(chat_1.doc)\n",
        "\n",
        "#print(hypothesis)"
      ]
    },
    {
      "cell_type": "code",
      "execution_count": null,
      "metadata": {
        "id": "ICyymEVYO4-9"
      },
      "outputs": [],
      "source": [
        "with open (r\"D:\\GitHub\\Repos\\Narracje-ASR\\data\\test\\ludzki\\Mf036_NAp_transkrypcja człowieka.doc.txt\", 'r') as f: #replace with your file path\n",
        "    reference_1 = f.read()\n",
        "\n",
        "#print(reference_1)"
      ]
    },
    {
      "cell_type": "code",
      "execution_count": null,
      "metadata": {
        "id": "srS6Vh2XR5on"
      },
      "outputs": [],
      "source": [
        "#calculating WER\n",
        "#transformation pipeline\n",
        "transforms = jiwer.Compose(\n",
        "    [\n",
        "        jiwer.ExpandCommonEnglishContractions(), \n",
        "        jiwer.RemoveEmptyStrings(),\n",
        "        jiwer.ToLowerCase(),\n",
        "        jiwer.RemoveMultipleSpaces(),\n",
        "        jiwer.Strip(),\n",
        "        jiwer.RemovePunctuation(),\n",
        "        jiwer.ReduceToListOfListOfWords(),\n",
        "    ]\n",
        ")\n"
      ]
    },
    {
      "cell_type": "code",
      "execution_count": 6,
      "metadata": {
        "id": "rUfwpYDyYG69"
      },
      "outputs": [
        {
          "name": "stdout",
          "output_type": "stream",
          "text": [
            "Word Error Rate (WER) : 0.9706390328151986\n",
            "Character Error Rate (CER) : 0.9706390328151986\n",
            "Match Error Rate (MER) : 0.6357466063348416\n",
            "Word Information Lost (WIL) : 0.7808148519267805\n",
            "Word Information Preserved (WIP) : 0.21918514807321957\n"
          ]
        }
      ],
      "source": [
        "wer_1 = jiwer.wer(\n",
        "                reference_1,\n",
        "                hypothesis_1,\n",
        "                truth_transform=transforms,\n",
        "                hypothesis_transform=transforms,\n",
        "            )\n",
        "\n",
        "cer_1 = jiwer.cer(\n",
        "                reference_1,\n",
        "                hypothesis_1,\n",
        "                truth_transform=transforms,\n",
        "                hypothesis_transform=transforms,\n",
        "            )\n",
        "\n",
        "mer_1 = jiwer.mer(\n",
        "                reference_1,\n",
        "                hypothesis_1,\n",
        "                truth_transform=transforms,\n",
        "                hypothesis_transform=transforms,\n",
        "            )\n",
        "\n",
        "wil_1 = jiwer.wil(\n",
        "                reference_1,\n",
        "                hypothesis_1,\n",
        "                truth_transform=transforms,\n",
        "                hypothesis_transform=transforms,\n",
        "            )\n",
        "\n",
        "wip_1 = jiwer.wip(\n",
        "                reference_1,\n",
        "                hypothesis_1,\n",
        "                truth_transform=transforms,\n",
        "                hypothesis_transform=transforms,\n",
        "            )\n",
        "\n",
        "print(f\"Word Error Rate (WER) :\", wer_1)\n",
        "print(f\"Character Error Rate (CER) :\", cer_1)\n",
        "print(f\"Match Error Rate (MER) :\", mer_1)\n",
        "print(f\"Word Information Lost (WIL) :\", wil_1)\n",
        "print(f\"Word Information Preserved (WIP) :\", wip_1)"
      ]
    },
    {
      "cell_type": "code",
      "execution_count": null,
      "metadata": {
        "id": "xmPvN0abUIsa"
      },
      "outputs": [
        {
          "name": "stdout",
          "output_type": "stream",
          "text": [
            "Word Error Rate (WER) : 0.43617021276595747\n",
            "Character Error Rate (CER) : 0.43617021276595747\n",
            "Match Error Rate (MER) : 0.4277198211624441\n",
            "Word Information Lost (WIL) : 0.6122884698309863\n",
            "Word Information Preserved (WIP) : 0.3877115301690138\n"
          ]
        }
      ],
      "source": [
        "#trying two more files\n",
        "\n",
        "chat_2 = ba.CHATFile(path = r'D:\\GitHub\\Repos\\Narracje-ASR\\data\\test\\batchaling\\Mf034_transkrypt_Batchalign2_LAPCOST-1-PL_FIRST_1355096529_d__Nagrania_Mf034_NAp.cha') #replace with your file path\n",
        "\n",
        "hypothesis_2 = str(chat_2.doc)\n",
        "\n",
        "with open (r'D:\\GitHub\\Repos\\Narracje-ASR\\data\\test\\ludzki\\Mf034_NAp_transkrypcja człowieka.docx.txt', 'r') as f: #replace with your file path\n",
        "    reference_2 = f.read()\n",
        "\n",
        "\n",
        "#files here were manually trimmed to match the beginning of the reference and hypothesis\n",
        "\n",
        "wer_2 = jiwer.wer(\n",
        "                reference_2[1497:],\n",
        "                hypothesis_2[77:],\n",
        "                truth_transform=transforms,\n",
        "                hypothesis_transform=transforms,\n",
        "            )\n",
        "\n",
        "cer_2 = jiwer.cer(\n",
        "                reference_2[1497:],\n",
        "                hypothesis_2[77:],\n",
        "                truth_transform=transforms,\n",
        "                hypothesis_transform=transforms,\n",
        "            )\n",
        "\n",
        "mer_2 = jiwer.mer(\n",
        "                reference_2[1497:],\n",
        "                hypothesis_2[77:],\n",
        "                truth_transform=transforms,\n",
        "                hypothesis_transform=transforms,\n",
        "            )\n",
        "\n",
        "wil_2 = jiwer.wil(\n",
        "                reference_2[1497:],\n",
        "                hypothesis_2[77:],\n",
        "                truth_transform=transforms,\n",
        "                hypothesis_transform=transforms,\n",
        "            )\n",
        "\n",
        "wip_2 = jiwer.wip(\n",
        "                reference_2[1497:],\n",
        "                hypothesis_2[77:],\n",
        "                truth_transform=transforms,\n",
        "                hypothesis_transform=transforms,\n",
        "            )\n",
        "\n",
        "print(f\"Word Error Rate (WER) :\", wer_2)\n",
        "print(f\"Character Error Rate (CER) :\", cer_2)\n",
        "print(f\"Match Error Rate (MER) :\", mer_2)\n",
        "print(f\"Word Information Lost (WIL) :\", wil_2)\n",
        "print(f\"Word Information Preserved (WIP) :\", wip_2)"
      ]
    },
    {
      "cell_type": "code",
      "execution_count": 8,
      "metadata": {
        "id": "tpjnD8bEUxcN"
      },
      "outputs": [],
      "source": [
        "#print(hypothesis_2[77:])\n",
        "#print(reference_2[1497:])"
      ]
    }
  ],
  "metadata": {
    "colab": {
      "provenance": []
    },
    "kernelspec": {
      "display_name": "Narracje-ASR",
      "language": "python",
      "name": "python3"
    },
    "language_info": {
      "codemirror_mode": {
        "name": "ipython",
        "version": 3
      },
      "file_extension": ".py",
      "mimetype": "text/x-python",
      "name": "python",
      "nbconvert_exporter": "python",
      "pygments_lexer": "ipython3",
      "version": "3.11.11"
    }
  },
  "nbformat": 4,
  "nbformat_minor": 0
}
